{
 "cells": [
  {
   "cell_type": "markdown",
   "metadata": {},
   "source": [
    "<a href=\"https://datamics.com/de/courses/\"><img src=../DATA/bg_datamics_top.png></a>\n",
    "\n",
    "<em text-align:center>© Datamics</em>\n",
    "## Binomialverteilung"
   ]
  },
  {
   "cell_type": "markdown",
   "metadata": {},
   "source": [
    "Die Binomialverteilung ist eine der wichtigsten diskreten Wahrscheinlichkeitsverteilungen.\n",
    "\n",
    "Sie beschreibt die Anzahl der Erfolge in einer Serie von gleichartigen und unabhängigen Versuchen, die jeweils genau zwei mögliche Ergebnisse haben („Erfolg“ oder „Misserfolg“). Solche Versuchsserien werden auch Bernoulli-Prozesse genannt.\n",
    "\n",
    "Schauen wir uns zunächst ein Beispiel an und danach die Definition der Binomialverteilung.\n"
   ]
  },
  {
   "cell_type": "markdown",
   "metadata": {},
   "source": [
    "*** Beispiel 1:*** Zwei Spieler spielen Basketball, Spieler A und Spieler B. Spieler A macht durchschnittlich 11 Würfe pro Spiel und hat eine Trefferquote von 72%. Spieler B mach durchschnittlich 15 Würfe pro Spiel, hat allerdings nur eine Erfolgsrate von 48%.\n",
    "\n",
    "*** Frage 1:*** Was ist die Wahrscheinlichkeit dass Spieler A durchschnittlich 6 Treffer pro Spiel macht?\n",
    "\n",
    "*** Frage 2:*** Was ist die Wahrscheinlichkeit dass Spieler B durchschnittlich 6 Treffer pro Spiel macht?\n"
   ]
  },
  {
   "cell_type": "markdown",
   "metadata": {},
   "source": [
    "Wir können dieses Experiment binomial klassifizieren sobald die folgenden Bedingungen eintreffen:\n",
    "\n",
    "    1.) Der Prozess besteht aus einer Folge von n Versuchen. \n",
    "    2.) Nur jeweils zwei mögliche Ergebnisse sind für jeden Versuch Möglich. („Erfolg“ oder „Misserfolg“)\n",
    "    3.) Wenn die Wahrscheinlichkeit für den Erfolg 'p' ist, dann ist die Wahrscheinlichkeit für einen Misserfolg gleich q=1-p\n",
    "    4.) Die Versuche sind unabhängig voneinander.\n",
    "    \n"
   ]
  },
  {
   "cell_type": "markdown",
   "metadata": {},
   "source": [
    "Die Wahrscheinlichkeitsfunktion für eine Binomialverteilung ist dann: "
   ]
  },
  {
   "cell_type": "markdown",
   "metadata": {},
   "source": [
    "$$Pr(X=k)=C(n,k)p^k (1-p)^{n-k}$$"
   ]
  },
  {
   "cell_type": "markdown",
   "metadata": {},
   "source": [
    "Wobei n= Anzahl der Versuche, k=Anzahl der Erfolge, p=Erfolgs- oder Trefferwahrscheinlichkeit, 1-p=Fehlerwahrscheinlichkeit (Wird oft als q=1-p angegeben)."
   ]
  },
  {
   "cell_type": "markdown",
   "metadata": {},
   "source": [
    "Die obige Formel kann so verstanden werden: Wir brauchen bei insgesamt 'n' Versuchen genau 'k' Erfolge der Wahrscheinlichkeit $$p^k$$ und haben demzufolge genau n-k Fehlschläge der Wahrscheinlichkeit $$(1-p)^{n-k}$$ \n",
    "\n",
    "Allerdings kann jeder der 'k' Erfolge bei jedem der 'n' Versuche auftreten, sodass wir noch mit der Anzahl $$C(n,k)$$  k-elementigen Teilmengen einer n-elementigen Menge multiplizieren müssen. Denn genau so viele Möglichkeiten gibt es, aus allen 'n' Versuchen die 'k' erfolgreichen auszuwählen. "
   ]
  },
  {
   "cell_type": "markdown",
   "metadata": {},
   "source": [
    "--------------------------------------------------------------------------------------------------------------------------------"
   ]
  },
  {
   "cell_type": "markdown",
   "metadata": {},
   "source": [
    "Ein kurzer Hinweiss, C(n,k) ist die Anzahl aller möglichen Kombinationen von N mit k zu einer bestimmten Zeit.\n",
    "\n",
    "Das ist gleichbedeutend zu: $$C(n,k) =  \\frac{n!}{k!(n-k)!}$$"
   ]
  },
  {
   "cell_type": "markdown",
   "metadata": {},
   "source": [
    "###  Schauen wir uns das Beispiel mit Python an"
   ]
  },
  {
   "cell_type": "code",
   "execution_count": 1,
   "metadata": {},
   "outputs": [
    {
     "name": "stdout",
     "output_type": "stream",
     "text": [
      " Die Wahrscheinlichkeit dass Spieler A durchschnittlich 6 Treffer pro Spiel macht ist 11.1% \n",
      " \n",
      "\n",
      " Die Wahrscheinlichkeit dass Spieler B durchschnittlich 6 Treffer pro Spiel macht ist 17.0% \n"
     ]
    }
   ],
   "source": [
    "# Spieler A\n",
    "\n",
    "# Trefferwahrscheinlichkeit für A\n",
    "p_A = .72\n",
    "# Anzahl der Würfe von A\n",
    "n_A = 11\n",
    "\n",
    "# Mache 6 Würfe\n",
    "k = 6\n",
    "\n",
    "# Importiere scipy\n",
    "import scipy.special as sc\n",
    "\n",
    "# Definiere C(n,k)\n",
    "comb_A = sc.comb(n_A,k)\n",
    "\n",
    "# Berechne die Wahrscheinlichkeit!\n",
    "answer_A = comb_A * (p_A**k) * ((1-p_A)**(n_A-k))\n",
    "\n",
    "# Formattiere die Ausgabe in Prozent!\n",
    "answer_A = 100*answer_A\n",
    "\n",
    "\n",
    "# Führe die gleichen Schritte für den Spieler B aus\n",
    "p_B = .48\n",
    "n_B = 15\n",
    "comb_B = sc.comb(n_B,k)\n",
    "answer_B = 100 * comb_B * (p_B**k) * ((1-p_B)**(n_B-k))\n",
    "\n",
    "\n",
    "#Ausgabe \n",
    "print (' Die Wahrscheinlichkeit dass Spieler A durchschnittlich 6 Treffer pro Spiel macht ist %1.1f%% ' %answer_A)\n",
    "print (' \\n')\n",
    "print (' Die Wahrscheinlichkeit dass Spieler B durchschnittlich 6 Treffer pro Spiel macht ist %1.1f%% ' %answer_B)"
   ]
  },
  {
   "cell_type": "markdown",
   "metadata": {},
   "source": [
    "Jetzt wissen wir dass Spieler B, obwohl dieser technisch schlechter ist, eine höhere Wahrscheinlichkeit hat um durchschnitlich 6 Treffer pro Spiel zu erzielen.  "
   ]
  },
  {
   "cell_type": "markdown",
   "metadata": {},
   "source": [
    "Aber einen Moment... was ist bei einer höheren Anzahl an Würfen? Hat die Trefferwahrscheinlichkeit von Spieler A einer größeren Effekt? \n",
    "\n",
    "Was ist die Trefferwahrscheinlichkeit um 9 Treffer pro Spiel zu erzielen?\n",
    "\n",
    "Dazu setzten wir die Anzahl der Würfe 'k' auf 9:"
   ]
  },
  {
   "cell_type": "code",
   "execution_count": 2,
   "metadata": {},
   "outputs": [
    {
     "name": "stdout",
     "output_type": "stream",
     "text": [
      " Die Wahrscheinlichkeit dass Spieler A durchschnittlich 9 Treffer pro Spiel macht ist 22.4% \n",
      " \n",
      "\n",
      " Die Wahrscheinlichkeit dass Spieler B durchschnittlich 9 Treffer pro Spiel macht ist 13.4% \n"
     ]
    }
   ],
   "source": [
    "\n",
    "k = 9\n",
    "\n",
    "# Wir ändern die neuen Kombinationen\n",
    "comb_A = sc.comb(n_A,k)\n",
    "comb_B = sc.comb(n_B,k)\n",
    "\n",
    "# Der Rest bleibt gleich \n",
    "answer_A = 100 * comb_A * (p_A**k) * ((1-p_A)**(n_A-k))\n",
    "answer_B = 100 * comb_B * (p_B**k) * ((1-p_B)**(n_B-k))\n",
    "\n",
    "#Ausgabe \n",
    "print (' Die Wahrscheinlichkeit dass Spieler A durchschnittlich 9 Treffer pro Spiel macht ist %1.1f%% ' %answer_A)\n",
    "print (' \\n')\n",
    "print (' Die Wahrscheinlichkeit dass Spieler B durchschnittlich 9 Treffer pro Spiel macht ist %1.1f%% ' %answer_B)"
   ]
  },
  {
   "cell_type": "markdown",
   "metadata": {},
   "source": [
    "Jetzt können wir erkennen, daß die Fertigkeiten von Spieler A eine höhere Wahrscheinlichkeit haben um genau 9 Treffer zu erzielen. Wir müssen außerdem noch in betracht ziehen dass wir nach der Wahrscheinlichkeit von **genau** 9 Treffern fragen. Das ist ein Unterschied zur Frage: \"Wie hoch ist die Wahrscheinlichkeit dass dass Spieler A mindestens 9 Treffer erzielt?\"."
   ]
  },
  {
   "cell_type": "markdown",
   "metadata": {},
   "source": [
    "### Schauen wir uns als nächstes den Druchschnitt und die Standardabweichung für die Binomialverteilung an\n"
   ]
  },
  {
   "cell_type": "markdown",
   "metadata": {},
   "source": [
    "Der Durchschnitt einer Binomialverteilung ist ganz einfach: $$\\mu=n*p$$"
   ]
  },
  {
   "cell_type": "markdown",
   "metadata": {},
   "source": [
    "Das macht Sinn, da die durschnittliche Anzahl der Treffer die Gesamtanzahl der Versuche multipliziert mit der durchschnittlichen Trefferwahrscheinlichkeit sein sollte. "
   ]
  },
  {
   "cell_type": "markdown",
   "metadata": {},
   "source": [
    "Die Standardabweichung einer Binomialverteilung entspricht dann: : $$\\sigma=\\sqrt{n*q*p}$$"
   ]
  },
  {
   "cell_type": "markdown",
   "metadata": {},
   "source": [
    "Als nächstes Können wir fragen: \"Was ist die durchschnittliche Anzahl der Treffer die ein Spieler pro Spiel machen wird, +/- der Standardverteilung?\"\n",
    "\n"
   ]
  },
  {
   "cell_type": "code",
   "execution_count": 3,
   "metadata": {},
   "outputs": [
    {
     "name": "stdout",
     "output_type": "stream",
     "text": [
      "Spieler A macht im Durchschnitt 8 +/- 1 Treffer pro Spiel\n",
      "\n",
      "\n",
      "Spieler B macht im Durchschnitt 7 +/- 2 Treffer pro Spiel\n"
     ]
    }
   ],
   "source": [
    "\n",
    "# Durchschnitt\n",
    "mu_A = n_A *p_A\n",
    "mu_B = n_B *p_B\n",
    "\n",
    "#Standardverteilung\n",
    "sigma_A = ( n_A *p_A*(1-p_A) )**0.5\n",
    "sigma_B = ( n_B *p_B*(1-p_B) )**0.5\n",
    "\n",
    "# Gerundete Ausgaben\n",
    "print ('Spieler A macht im Durchschnitt %1.0f +/- %1.0f Treffer pro Spiel' %(mu_A,sigma_A))\n",
    "print ('\\n')\n",
    "print ('Spieler B macht im Durchschnitt %1.0f +/- %1.0f Treffer pro Spiel' %(mu_B,sigma_B))\n"
   ]
  },
  {
   "cell_type": "markdown",
   "metadata": {},
   "source": [
    "#### Binomialverteilung mit Scipy"
   ]
  },
  {
   "cell_type": "code",
   "execution_count": 4,
   "metadata": {},
   "outputs": [
    {
     "name": "stdout",
     "output_type": "stream",
     "text": [
      "7.92\n",
      "1.4891608375189027\n"
     ]
    }
   ],
   "source": [
    "from scipy.stats import binom\n",
    "\n",
    "# Wir können stats aufrufen: Mean('m'), variance('v'), skew('s'), and/or kurtosis('k')\n",
    "mean,var= binom.stats(n_A,p_A)\n",
    "\n",
    "print (mean)\n",
    "print (var**0.5)"
   ]
  },
  {
   "cell_type": "markdown",
   "metadata": {},
   "source": [
    "Sieht nach den gleichen Ergebnissen aus, wie die zuvor manuel erstellten."
   ]
  },
  {
   "cell_type": "markdown",
   "metadata": {},
   "source": [
    "#### Wahrscheinlichkeitsfunktion:"
   ]
  },
  {
   "cell_type": "markdown",
   "metadata": {},
   "source": [
    "Schauen wir uns ein weiteres Beispiel an und visualisieren dieses.\n",
    "\n",
    "Stell dir einen Münzwurf vor. Die Wahrscheinlichkeit um Kopf zu erhalten ist p=0.5 (in diesem Beispiel \"Erfolg\").\n",
    "\n",
    "Wie sieht dann die Wahrscheinlichkeitsfunktion aus?\n"
   ]
  },
  {
   "cell_type": "code",
   "execution_count": 5,
   "metadata": {},
   "outputs": [
    {
     "data": {
      "text/plain": [
       "array([0.00097656, 0.00976563, 0.04394531, 0.1171875 , 0.20507813,\n",
       "       0.24609375, 0.20507813, 0.1171875 , 0.04394531, 0.00976563,\n",
       "       0.00097656])"
      ]
     },
     "execution_count": 5,
     "metadata": {},
     "output_type": "execute_result"
    }
   ],
   "source": [
    "import numpy as np\n",
    "\n",
    "# Definiere das neue Beispiel\n",
    "n=10\n",
    "p=0.5\n",
    "\n",
    "# Definiere n Erfolge, (Die Indexierung startet bei 0, daher n+1)\n",
    "x = range(n+1)\n",
    "\n",
    "# Erstelle die Wahrscheinlichkeitsfunktion\n",
    "Y = binom.pmf(x,n,p)\n",
    "\n",
    "# Ausgabe\n",
    "Y\n"
   ]
  },
  {
   "cell_type": "markdown",
   "metadata": {},
   "source": [
    "#### Visualisieren der Binomialverteilung"
   ]
  },
  {
   "cell_type": "code",
   "execution_count": 6,
   "metadata": {},
   "outputs": [
    {
     "data": {
      "text/plain": [
       "Text(0, 0.5, 'Wahrscheinlichkeit')"
      ]
     },
     "execution_count": 6,
     "metadata": {},
     "output_type": "execute_result"
    }
   ],
   "source": [
    "import matplotlib.pyplot as plt\n",
    "\n",
    "\n",
    "plt.plot(x,Y,'o')\n",
    "\n",
    "# Überschrift (verwende y=1.08 um die Überschrift über die Grafik zu stellen)\n",
    "plt.title('Binomialverteilung: 10 Münzwürfe, Die Erfolgswahrscheinlichkeit für Kopf ist p=0.5',y=1.08)\n",
    "\n",
    "# Achsenbeschriftung\n",
    "plt.xlabel('Anzahl von Kopf')\n",
    "plt.ylabel('Wahrscheinlichkeit')\n",
    "\n"
   ]
  },
  {
   "cell_type": "markdown",
   "metadata": {},
   "source": [
    "##### Das war eine kurze Übersicht zur Binomialverteilung.\n",
    "\n",
    "Es gibt noch sehr viel mehr Literatur zur Binomialverteilung, die du dir anschauen kannst. Hier sind ein Paar Links zu weiteren Erklärungen:\n",
    "\n",
    "\n",
    "\n",
    "1.) https://de.wikipedia.org/wiki/Binomialverteilung\n",
    "\n",
    "2.) http://mars.wiwi.hu-berlin.de/mediawiki/mmstat3/index.php/Binomialverteilung\n",
    "\n",
    "3.) http://mathworld.wolfram.com/BinomialDistribution.html"
   ]
  },
  {
   "cell_type": "markdown",
   "metadata": {},
   "source": [
    "Danke!"
   ]
  }
 ],
 "metadata": {
  "kernelspec": {
   "display_name": "Python 3",
   "language": "python",
   "name": "python3"
  },
  "language_info": {
   "codemirror_mode": {
    "name": "ipython",
    "version": 3
   },
   "file_extension": ".py",
   "mimetype": "text/x-python",
   "name": "python",
   "nbconvert_exporter": "python",
   "pygments_lexer": "ipython3",
   "version": "3.6.0"
  }
 },
 "nbformat": 4,
 "nbformat_minor": 1
}
