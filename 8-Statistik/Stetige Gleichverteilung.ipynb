{
 "cells": [
  {
   "cell_type": "markdown",
   "metadata": {},
   "source": [
    "<a href=\"https://datamics.com/de/courses/\"><img src=../DATA/bg_datamics_top.png></a>\n",
    "\n",
    "<em text-align:center>© Datamics</em>\n",
    "\n",
    "***Hinweis:*** Vor dieser Lektion solltest du dir die diskrete Gleichverteliung anschauen."
   ]
  },
  {
   "cell_type": "markdown",
   "metadata": {},
   "source": [
    "## Stetige Gleichverteilung\n",
    "\n",
    "Die stetige Gleichverteilung (en. Continous Uniform Distribution), auch Rechteckverteilung oder Uniformverteilung genannt, ist eine stetige Wahrscheinlichkeitsverteilung. Sie hat eine konstante Wahrscheinlichkeitsdichte 1/n für jedes Ergebnis. Dies ist gleichbedeutend damit, dass alle Teilintervalle gleicher Länge dieselbe Wahrscheinlichkeit besitzen.\n",
    "\n",
    "Die Möglichkeit, die stetige Gleichverteilung auf dem Intervall von 0 bis 1 zu simulieren, bildet die Basis zur Erzeugung zahlreicher beliebig verteilter Zufallszahlen mittels der Inversionsmethode oder der Verwerfungsmethode. Die stetige Gleichvertelilung kann somit nicht in diskrete Teile unterteilt werden wie zum Beispiel das Wiegen einen Gegenstandes. Für einer Perfekten Präzision des Gewichts, können die Daten jeden Wert zwischen zweier Punkte annehmen (z.B. 5,4 Gramm, 5,423 Gramn, 5,42322 Gramm, etc).\n"
   ]
  },
  {
   "cell_type": "markdown",
   "metadata": {},
   "source": [
    "##### Eine stetige Zufallsvariable X bezeichnet man als gleichverteilt auf dem Intervall [ a , b ], wenn Dichtefunktion f ( x ) gegeben ist als:"
   ]
  },
  {
   "cell_type": "markdown",
   "metadata": {},
   "source": [
    "$$f(x)=\\frac{1}{(b-a)}\\\\\\\\a<=x<=b$$"
   ]
  },
  {
   "cell_type": "markdown",
   "metadata": {},
   "source": [
    "Das macht Sinn, da für eine diskrete Gleichverteilung f(x)=1/n gilt, im fortlaufenden Fall haben wir allerdings keine spezifische Anzahl an n Möglichkeiten, sondern wir haben einen Bereich vom Minimum (a) bis zum Maximum (b)!"
   ]
  },
  {
   "cell_type": "markdown",
   "metadata": {},
   "source": [
    "Der Durchschnitt ist einfach der Durchschnitt zwischen dem Minimum (a) und dem Maximum (b):"
   ]
  },
  {
   "cell_type": "markdown",
   "metadata": {},
   "source": [
    "$$\\frac{(a+b)}{2}$$"
   ]
  },
  {
   "cell_type": "markdown",
   "metadata": {},
   "source": [
    "Die Varianz ist:"
   ]
  },
  {
   "cell_type": "markdown",
   "metadata": {},
   "source": [
    "$$ \\sigma^2 = \\frac{(b-a)^2}{12}$$"
   ]
  },
  {
   "cell_type": "markdown",
   "metadata": {},
   "source": [
    "#### Beispiel mit Python\n",
    "\n",
    "Wie sieht dann ein Beisiel aus dem alltäglichen Leben aus? Nehmen wir an, daß eine Taxifahrt in Frankfurt durchschnittlich 22 Minuten dauert. Nach ein paar Stichproben zur Farhrtdauer, sehen wir dass alle Taxifahrten gleichverteilt zwischen 19 und 27 Minuten liegen. Was ist dann die Dichtefunktion einer Taxifahrt oder was ist f(x)?"
   ]
  },
  {
   "cell_type": "code",
   "execution_count": 5,
   "metadata": {},
   "outputs": [
    {
     "name": "stdout",
     "output_type": "stream",
     "text": [
      "Die Dichtefunktion ergibt 0.125\n"
     ]
    }
   ],
   "source": [
    "# Minimum\n",
    "a = 19\n",
    "\n",
    "# Maximum\n",
    "b = 27\n",
    "\n",
    "# Dan verwenden wir die stetige Gleichverteilung\n",
    "fx = 1.0/(b-a)\n",
    "\n",
    "# Ausgabe\n",
    "print ('Die Dichtefunktion ergibt %1.3f' %fx)"
   ]
  },
  {
   "cell_type": "markdown",
   "metadata": {},
   "source": [
    "Danach geben wir die Varianz aus."
   ]
  },
  {
   "cell_type": "code",
   "execution_count": 8,
   "metadata": {},
   "outputs": [
    {
     "name": "stdout",
     "output_type": "stream",
     "text": [
      "Die Varianz der stetigen Gleichverteilung ist 5.3\n"
     ]
    }
   ],
   "source": [
    "var = ((b-a)**2 )/12\n",
    "\n",
    "\n",
    "print ('Die Varianz der stetigen Gleichverteilung ist %1.1f' %var)"
   ]
  },
  {
   "cell_type": "markdown",
   "metadata": {},
   "source": [
    "Jetzt stellen wir uns die Frage: Was ist die Wahrscheinlichkeit, daß eine Taxifahrt ***mindestens*** 25 Minuten dauert?"
   ]
  },
  {
   "cell_type": "code",
   "execution_count": 11,
   "metadata": {},
   "outputs": [
    {
     "name": "stdout",
     "output_type": "stream",
     "text": [
      "Die Wahrscheinlichkeit daß eine Taxifahrt mindestens 25 Minuten dauert ist 25.0%\n"
     ]
    }
   ],
   "source": [
    "\n",
    "#f(27)\n",
    "fx_1 = 27.0/(b-a)\n",
    "#f(25)\n",
    "fx_2 = 25.0/(b-a)\n",
    "\n",
    "# Unsere Antwort ist dann\n",
    "ant = fx_1-fx_2\n",
    "\n",
    "# Ausgabe\n",
    "print ('Die Wahrscheinlichkeit daß eine Taxifahrt mindestens 25 Minuten dauert ist %2.1f%%' %(100*ant))"
   ]
  },
  {
   "cell_type": "markdown",
   "metadata": {},
   "source": [
    "#### Stetigen Gleichverteilung mit Scipy\n",
    "\n",
    "Schauen wir uns an, wie wir die stetige Gleichverteilung mit Scipy erzeugen können."
   ]
  },
  {
   "cell_type": "code",
   "execution_count": 13,
   "metadata": {},
   "outputs": [
    {
     "data": {
      "text/plain": [
       "[<matplotlib.lines.Line2D at 0x10b0da518>]"
      ]
     },
     "execution_count": 13,
     "metadata": {},
     "output_type": "execute_result"
    },
    {
     "data": {
      "image/png": "[encoded data removed]",
      "text/plain": [
       "<matplotlib.figure.Figure at 0x10a0aae10>"
      ]
     },
     "metadata": {},
     "output_type": "display_data"
    }
   ],
   "source": [
    "# Imports\n",
    "from scipy.stats import uniform\n",
    "import numpy as np\n",
    "import matplotlib.pyplot as plt\n",
    "%matplotlib inline\n",
    "\n",
    "# Definiere A und B\n",
    "A=0\n",
    "B=5\n",
    "\n",
    "# Lege x als 100 linear verteilte Punkte zwischen A und B fest.\n",
    "x = np.linspace(A,B,100)\n",
    "\n",
    "# Benutze uniform(loc=start point,scale=endpoint)\n",
    "rv = uniform(loc=A,scale=B)\n",
    "\n",
    "# Visualisierung\n",
    "plt.plot(x,rv.pdf(x))\n"
   ]
  },
  {
   "cell_type": "markdown",
   "metadata": {},
   "source": [
    "Die erhaltenen Linie liegt bei 0,2, das ist auch genau der Wert den wir erwartet haben, da 1/(5-0) = 1/5 = 0,2 ist.\n",
    "\n",
    "##### Das war eine kurze Übersicht zur stetigen Gleichverteilung.\n",
    "\n",
    "Es gibt noch sehr viel mehr Literatur zur stetigen Gleichverteilung, die du dir anschauen kannst. Hier sind ein Paar Links zu weiteren Erklärungen. \n",
    "\n",
    "\n",
    "1.)https://de.wikipedia.org/wiki/Stetige_Gleichverteilung\n",
    "\n",
    "2.)http://mars.wiwi.hu-berlin.de/mediawiki/mmstat3/index.php/Stetige_Gleichverteilung\n",
    "\n",
    "3.)http://docs.scipy.org/doc/scipy/reference/generated/scipy.stats.uniform.html\n",
    "\n",
    "4.)http://mathworld.wolfram.com/UniformDistribution.html"
   ]
  }
 ],
 "metadata": {
  "kernelspec": {
   "display_name": "Python 3",
   "language": "python",
   "name": "python3"
  },
  "language_info": {
   "codemirror_mode": {
    "name": "ipython",
    "version": 3
   },
   "file_extension": ".py",
   "mimetype": "text/x-python",
   "name": "python",
   "nbconvert_exporter": "python",
   "pygments_lexer": "ipython3",
   "version": "3.6.0"
  }
 },
 "nbformat": 4,
 "nbformat_minor": 1
}
