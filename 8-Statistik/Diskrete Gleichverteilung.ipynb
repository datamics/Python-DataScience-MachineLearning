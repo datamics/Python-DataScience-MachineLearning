{
 "cells": [
  {
   "cell_type": "markdown",
   "metadata": {},
   "source": [
    "<a href=\"https://datamics.com/de/courses/\"><img src=../DATA/bg_datamics_top.png></a>\n",
    "\n",
    "<em text-align:center>© Datamics</em>\n",
    "## Diskrete Gleichverteilung\n",
    "\n",
    "Wir beginnen mit einer Definition der diskrete Gleichverteilung (en. uniform distribution) und im Anschluß erstellen und visualisieren wir diese mit Numpy, Matplotlib und Scipy. Dabei diskutieren wir die Eigenschaften der diskreten Gleichverteilung.\n"
   ]
  },
  {
   "cell_type": "markdown",
   "metadata": {},
   "source": [
    "***Definition:*** Die diskrete Gleichverteilung ist eine spezielle Wahrscheinlichkeitsverteilung in der Stochastik. Eine diskrete Zufallsvariable X mit endlich vielen Ausprägungen hat eine diskrete Gleichverteilung, wenn die Wahrscheinlichkeit für jede ihrer Ausprägungen x1,x2,x3,...,xn gleich ist. Es gilt dann:\n",
    "            "
   ]
  },
  {
   "cell_type": "markdown",
   "metadata": {},
   "source": [
    "$$ f(x_{i}) = 1/n $$"
   ]
  },
  {
   "cell_type": "markdown",
   "metadata": {},
   "source": [
    "### Schauen wir uns das in Python mit einem Beispiel an:"
   ]
  },
  {
   "cell_type": "markdown",
   "metadata": {},
   "source": [
    "Dazu müssen wir zunächst die folgenden Importe ausführen:"
   ]
  },
  {
   "cell_type": "code",
   "execution_count": 1,
   "metadata": {},
   "outputs": [],
   "source": [
    "import numpy as np\n",
    "from numpy.random import randn\n",
    "import pandas as pd\n",
    "from scipy import stats\n",
    "import matplotlib as mpl\n",
    "import matplotlib.pyplot as plt\n",
    "import seaborn as sns\n",
    "%matplotlib inline"
   ]
  },
  {
   "cell_type": "markdown",
   "metadata": {},
   "source": [
    "Als nächstes werden wir einen perfekten sechsseitiger Würfel mit Numpy erstellen, bei dem jede Zahl von eins bis sechs mit Wahrscheinlichkeit 1/6 fällt. Danach visualisieren wir die Ergebnisse mit Seaborn und Matplotlib.\n"
   ]
  },
  {
   "cell_type": "code",
   "execution_count": 2,
   "metadata": {},
   "outputs": [
    {
     "data": {
      "text/plain": [
       "Text(0.5, 1.0, 'Probability Mass Function for Dice Roll')"
      ]
     },
     "execution_count": 2,
     "metadata": {},
     "output_type": "execute_result"
    },
    {
     "data": {
      "image/png": "[encoded data removed]",
      "text/plain": [
       "<Figure size 432x288 with 1 Axes>"
      ]
     },
     "metadata": {
      "needs_background": "light"
     },
     "output_type": "display_data"
    }
   ],
   "source": [
    "# Wie führen wir den Wurf eines Würfels aus?\n",
    "\n",
    "# Definiere jede Zahl des Würferls\n",
    "roll_options = [1,2,3,4,5,6]\n",
    "\n",
    "# Definirere den gesamten Wahrscheinlichkeitsraum \n",
    "tprob = 1\n",
    "\n",
    "# Wir haben einen perfekten sechsseitiger Würfel, somit hat jede Seite hat die gleiche Wahrscheinlichkeit dass sie geworfen wird\n",
    "prob_roll = tprob / len(roll_options)\n",
    "\n",
    "# Visualisiere das Ergebniss mit Seaborn rugplot indem die Höhe gleich der Wahrschenilcihkeit des Wurfes entspricht\n",
    "uni_plot = sns.rugplot(roll_options,height=prob_roll,c='indianred')\n",
    "\n",
    "# Gib die Überschrift aus\n",
    "uni_plot.set_title('Probability Mass Function for Dice Roll')\n"
   ]
  },
  {
   "cell_type": "markdown",
   "metadata": {},
   "source": [
    "Wir können in dem Beispiel erkennen dass der Wert von f(x) in dem Plot gleich 1/(Anzahl der möglichen Ergebniss) ist."
   ]
  },
  {
   "cell_type": "markdown",
   "metadata": {},
   "source": [
    "-------"
   ]
  },
  {
   "cell_type": "markdown",
   "metadata": {},
   "source": [
    "Was ist dann der Durchschnitt und die Varianz für diese diskrete Gleichverteilung?"
   ]
  },
  {
   "cell_type": "markdown",
   "metadata": {},
   "source": [
    "Der Durchschnitt ist einfach der Minimum und der Maximum Wert geteilt durch zwei. Also praktisch wie der Durchschnitt zweier Zahlen. "
   ]
  },
  {
   "cell_type": "markdown",
   "metadata": {},
   "source": [
    "$$ \\mu = (b+a)/2 $$"
   ]
  },
  {
   "cell_type": "markdown",
   "metadata": {},
   "source": [
    "Mit einer Varianz von:"
   ]
  },
  {
   "cell_type": "markdown",
   "metadata": {},
   "source": [
    "$$ \\sigma^2=\\frac{(b-a+1)^2 - 1 }{12}$$"
   ]
  },
  {
   "cell_type": "markdown",
   "metadata": {},
   "source": [
    "--------"
   ]
  },
  {
   "cell_type": "markdown",
   "metadata": {},
   "source": [
    "### Diskrete Gleichverteilung mit Scipy\n",
    "\n",
    "Jetzt schauen wir uns noch an wie man die diskrete Gleichverteilung automatisch mit Scipy erzeugt.\n"
   ]
  },
  {
   "cell_type": "code",
   "execution_count": 3,
   "metadata": {
    "scrolled": true
   },
   "outputs": [
    {
     "name": "stdout",
     "output_type": "stream",
     "text": [
      "Der Durchschnitt ist 3.5\n"
     ]
    }
   ],
   "source": [
    "# Imports\n",
    "from scipy.stats import randint\n",
    "\n",
    "# Setzte die Ober- und die Untergrenze für den Würfel\n",
    "low,high = 1,7\n",
    "\n",
    "# Lese den Durchschnitt und die Varianz aus\n",
    "mean,var = randint.stats(low,high)\n",
    "\n",
    "print ('Der Durchschnitt ist %2.1f' %mean)\n"
   ]
  },
  {
   "cell_type": "code",
   "execution_count": 4,
   "metadata": {},
   "outputs": [
    {
     "data": {
      "text/plain": [
       "<BarContainer object of 6 artists>"
      ]
     },
     "execution_count": 4,
     "metadata": {},
     "output_type": "execute_result"
    },
    {
     "data": {
      "image/png": "[encoded data removed]",
      "text/plain": [
       "<Figure size 432x288 with 1 Axes>"
      ]
     },
     "metadata": {
      "needs_background": "light"
     },
     "output_type": "display_data"
    }
   ],
   "source": [
    "# Jetzt können wir ein einfaches Balkendiagramm erstellen\n",
    "plt.bar(roll_options,randint.pmf(roll_options,low,high))"
   ]
  },
  {
   "cell_type": "markdown",
   "metadata": {},
   "source": [
    "##### Das war eine kurze Übersicht zur diskreten Gleichverteilung.\n",
    "\n",
    "Es gibt noch sehr viel mehr Literatur zur diskreten Gleichverteilung, die du dir anschauen kannst. Hier sind ein paar Links zu weiteren Erklärungen:\n",
    "\n",
    " - https://de.wikipedia.org/wiki/Diskrete_Gleichverteilung\n",
    " - http://mars.wiwi.hu-berlin.de/mediawiki/mmstat3/index.php/Diskrete_Gleichverteilung\n",
    " - http://www.crashkurs-statistik.de/diskrete-gleichverteilung/"
   ]
  },
  {
   "cell_type": "markdown",
   "metadata": {},
   "source": [
    "---------------------------------------------"
   ]
  }
 ],
 "metadata": {
  "kernelspec": {
   "display_name": "Python 3",
   "language": "python",
   "name": "python3"
  },
  "language_info": {
   "codemirror_mode": {
    "name": "ipython",
    "version": 3
   },
   "file_extension": ".py",
   "mimetype": "text/x-python",
   "name": "python",
   "nbconvert_exporter": "python",
   "pygments_lexer": "ipython3",
   "version": "3.6.0"
  }
 },
 "nbformat": 4,
 "nbformat_minor": 1
}
