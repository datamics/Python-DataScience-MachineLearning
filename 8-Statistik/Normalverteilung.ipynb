{
 "cells": [
  {
   "cell_type": "markdown",
   "metadata": {
    "collapsed": true
   },
   "source": [
    "<a href=\"https://datamics.com/de/courses/\"><img src=../DATA/bg_datamics_top.png></a>\n",
    "\n",
    "<em text-align:center>© Datamics</em>\n",
    "\n",
    "***Hinweis:*** Du solltest zuvor die Binominalverteilung lernen.\n",
    "\n",
    "# Normalverteilung"
   ]
  },
  {
   "cell_type": "markdown",
   "metadata": {},
   "source": [
    "Die Normal- oder Gauß-Verteilung ist ein wichtiger Typ stetiger Wahrscheinlichkeitsverteilungen. Ihre Wahrscheinlichkeitsdichte wird auch Gauß-Funktion, Gaußsche Normalverteilung, Gaußsche Verteilungskurve, Gauß-Kurve, Gaußsche Glockenkurve, Gaußsche Glockenfunktion, Gauß-Glocke oder schlicht Glockenkurve genannt.\n",
    "\n",
    "Beispiele mit einer Normalverteilung:\n",
    "\n",
    "    - Zufällige Messfehler,\n",
    "    - Zufällige Abweichungen vom Sollmaß bei der Fertigung von Werkstücken,\n",
    "    - Beschreibung der brownschen Molekularbewegung.\n",
    "    - In der Versicherungsmathematik ist die Normalverteilung geeignet zur Modellierung von Schadensdaten im Bereich mittlerer Schadenshöhen.\n",
    "    - In der Messtechnik wird häufig eine Normalverteilung angesetzt, die die Streuung der Messfehler beschreibt. Hierbei ist von Bedeutung, wie viele Messpunkte innerhalb einer gewissen Streubreite liegen. \n",
    "\n",
    "Wir schauen uns zunächst die Definition an, erstellen ein Beispiel mit Python indem wir Scipy und Numpy verwenden. Dabei diskutieren wir die Eigenschaften einer Normalverteilung.\n",
    "\n",
    "Die Verteliung wird mit der Wahrscheinlichkeitsdichtefunktion (en. probability density function) beschrieben:\n"
   ]
  },
  {
   "cell_type": "markdown",
   "metadata": {},
   "source": [
    "## $$  f(x,\\mu,\\sigma) = \\frac{1}{\\sigma\\sqrt{2\\pi}}e^\\frac{-1}{2z^2} $$"
   ]
  },
  {
   "cell_type": "markdown",
   "metadata": {},
   "source": [
    "wobei: $$z=\\frac{(X-\\mu)}{\\sigma}$$"
   ]
  },
  {
   "cell_type": "markdown",
   "metadata": {},
   "source": [
    "mit: μ=Durchschnitt , σ=Standardabweichung , π=3.14... , e=2.718... Die Gesamtfläche zwischen der Kurve der Wahrscheinlichkeitsdichtefunktion und der X-Achse ist 1. Daher repräsentiert die Fläche unter der Kurve zweier Ordinaten X=a und X = b, wobei a<b, die Wahrscheinlichkeit dass X zwischen a und b liegt. Diese Wahrscheinlichkeit kann wie folgt ausgedrückt werden: $$Pr(a<X<b)$$"
   ]
  },
  {
   "cell_type": "markdown",
   "metadata": {
    "collapsed": true
   },
   "source": [
    "----------"
   ]
  },
  {
   "cell_type": "markdown",
   "metadata": {},
   "source": [
    "Die Normalverteilung hat die folgenden Eigenschaften:\n",
    "\n",
    "    1.) Die Kurve ist für die theoretische Verteilung symetrisch  \n",
    "    2.) Die Spitze der Kurve ist bei dem Durchschnitt.\n",
    "    3.) Die Standardabweichung gibt der Kurve ihre Form:\n",
    "        -Die Kurve ist für eine höhere Standardabweichung klein und breit.\n",
    "        -Die Kurve ist für eine niedrigere Standardabweichung schmal und hoch.\n",
    "    4.) Die Fläche unter der Kurve ist glecih 1\n",
    "    5.) Der Durchschnitt = Median    "
   ]
  },
  {
   "cell_type": "markdown",
   "metadata": {},
   "source": [
    "Für eine Normalverteilung können wir sehen welcher Prozentsatz der Werte in einer Standardabweichung liegen. 68% der Werte liegen inerhalb einer Standardabweichung (STD) von 1. 95% liegen zwischen 2 STD und 99,7% liegen zwischen 3 STDs. Die Anzahl der Standardabweichungen wird auch Z-Score genannt, den wir oben schon gesehen haben."
   ]
  },
  {
   "cell_type": "code",
   "execution_count": 5,
   "metadata": {},
   "outputs": [
    {
     "data": {
      "text/html": [
       "<img src=\"http://upload.wikimedia.org/wikipedia/commons/thumb/2/25/The_Normal_Distribution.svg/725px-The_Normal_Distribution.svg.png\"/>"
      ],
      "text/plain": [
       "<IPython.core.display.Image object>"
      ]
     },
     "execution_count": 5,
     "metadata": {},
     "output_type": "execute_result"
    }
   ],
   "source": [
    "from IPython.display import Image\n",
    "Image(url='http://upload.wikimedia.org/wikipedia/commons/thumb/2/25/The_Normal_Distribution.svg/725px-The_Normal_Distribution.svg.png')"
   ]
  },
  {
   "cell_type": "markdown",
   "metadata": {},
   "source": [
    "Erstellen wir uns selbst eine Normalverteilung mit Scipy."
   ]
  },
  {
   "cell_type": "code",
   "execution_count": 6,
   "metadata": {},
   "outputs": [
    {
     "data": {
      "text/plain": [
       "[<matplotlib.lines.Line2D at 0x273141b9dd8>]"
      ]
     },
     "execution_count": 6,
     "metadata": {},
     "output_type": "execute_result"
    },
    {
     "data": {
      "image/png": "[encoded data removed]",
      "text/plain": [
       "<Figure size 432x288 with 1 Axes>"
      ]
     },
     "metadata": {
      "needs_background": "light"
     },
     "output_type": "display_data"
    }
   ],
   "source": [
    "#Import\n",
    "import matplotlib as mpl\n",
    "import matplotlib.pyplot as plt\n",
    "%matplotlib inline\n",
    "from scipy import stats\n",
    "import numpy as np\n",
    "\n",
    "mean = 0\n",
    "std = 1\n",
    "\n",
    "# Erstelle eine range X\n",
    "X = np.arange(-4,4,0.01)\n",
    "\n",
    "# Erstelle eine Normalverteilung für X\n",
    "Y = stats.norm.pdf(X,mean,std)\n",
    "\n",
    "#\n",
    "plt.plot(X,Y)\n"
   ]
  },
  {
   "cell_type": "markdown",
   "metadata": {},
   "source": [
    "Als nächstes schauen wir uns an wie mit Numpy eine Normalverteilung erstellt werden kann."
   ]
  },
  {
   "cell_type": "code",
   "execution_count": 7,
   "metadata": {},
   "outputs": [],
   "source": [
    "mu,sigma = 0,0.1\n",
    "\n",
    "# Jetzt nehmen wir uns 1000 Zufallswerte aus der Normalverteilung\n",
    "norm_set = np.random.normal(mu,sigma,1000)"
   ]
  },
  {
   "cell_type": "markdown",
   "metadata": {},
   "source": [
    "Wir visualisieren die normalverteilten Werte mit einem Seaborn Histogram."
   ]
  },
  {
   "cell_type": "code",
   "execution_count": 8,
   "metadata": {},
   "outputs": [
    {
     "data": {
      "text/plain": [
       "(array([ 1.,  1.,  0.,  1.,  0.,  2.,  2.,  2.,  3.,  4.,  4.,  9.,  9.,\n",
       "        13., 12., 13., 21., 15., 28., 39., 32., 38., 46., 41., 42., 46.,\n",
       "        32., 43., 46., 50., 50., 35., 53., 40., 43., 25., 33., 17., 28.,\n",
       "        14., 20., 11.,  6., 10.,  2.,  8.,  3.,  4.,  1.,  2.]),\n",
       " array([-0.33186421, -0.31987789, -0.30789156, -0.29590523, -0.28391891,\n",
       "        -0.27193258, -0.25994625, -0.24795993, -0.2359736 , -0.22398727,\n",
       "        -0.21200095, -0.20001462, -0.18802829, -0.17604197, -0.16405564,\n",
       "        -0.15206931, -0.14008299, -0.12809666, -0.11611033, -0.10412401,\n",
       "        -0.09213768, -0.08015135, -0.06816503, -0.0561787 , -0.04419237,\n",
       "        -0.03220605, -0.02021972, -0.00823339,  0.00375293,  0.01573926,\n",
       "         0.02772559,  0.03971191,  0.05169824,  0.06368457,  0.07567089,\n",
       "         0.08765722,  0.09964355,  0.11162987,  0.1236162 ,  0.13560253,\n",
       "         0.14758885,  0.15957518,  0.17156151,  0.18354783,  0.19553416,\n",
       "         0.20752049,  0.21950681,  0.23149314,  0.24347947,  0.25546579,\n",
       "         0.26745212]),\n",
       " <a list of 50 Patch objects>)"
      ]
     },
     "execution_count": 8,
     "metadata": {},
     "output_type": "execute_result"
    },
    {
     "data": {
      "image/png": "[encoded data removed]",
      "text/plain": [
       "<Figure size 432x288 with 1 Axes>"
      ]
     },
     "metadata": {
      "needs_background": "light"
     },
     "output_type": "display_data"
    }
   ],
   "source": [
    "import seaborn as sns\n",
    "\n",
    "plt.hist(norm_set,bins=50)"
   ]
  },
  {
   "cell_type": "markdown",
   "metadata": {
    "collapsed": true
   },
   "source": [
    "##### Das war eine kurze Übersicht zur Normalverteilung.\n",
    "\n",
    "Es gibt noch sehr viel mehr Literatur zur Normalverteilung, die du dir anschauen kannst. Hier sind ein paar Links zu weiteren Erklärungen:\n",
    "\n",
    "1.) https://de.wikipedia.org/wiki/Normalverteilung\n",
    "\n",
    "2.) http://mars.wiwi.hu-berlin.de/mediawiki/mmstat3/index.php/Normalverteilung\n",
    "\n",
    "3.) http://mathworld.wolfram.com/NormalDistribution.html"
   ]
  },
  {
   "cell_type": "markdown",
   "metadata": {
    "collapsed": true
   },
   "source": [
    "# Gut gemacht!"
   ]
  }
 ],
 "metadata": {
  "kernelspec": {
   "display_name": "Python 3",
   "language": "python",
   "name": "python3"
  },
  "language_info": {
   "codemirror_mode": {
    "name": "ipython",
    "version": 3
   },
   "file_extension": ".py",
   "mimetype": "text/x-python",
   "name": "python",
   "nbconvert_exporter": "python",
   "pygments_lexer": "ipython3",
   "version": "3.6.0"
  }
 },
 "nbformat": 4,
 "nbformat_minor": 1
}
